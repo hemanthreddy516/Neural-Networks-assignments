{
 "cells": [
  {
   "cell_type": "markdown",
   "id": "177428a6",
   "metadata": {},
   "source": [
    "Write a program that takes two strings from the user: first_name, last_name. Pass these variables to\n",
    "fullname function that should return the (full name).\n"
   ]
  },
  {
   "cell_type": "code",
   "execution_count": 1,
   "id": "00a30729",
   "metadata": {},
   "outputs": [
    {
     "name": "stdout",
     "output_type": "stream",
     "text": [
      "enter first name :hemanth\n",
      "enter last name : chereddy\n",
      "Full name :  hemanth chereddy\n"
     ]
    }
   ],
   "source": [
    "def getFullName(firstName,lastName):\n",
    "    return firstName + ' ' + lastName\n",
    "\n",
    "firstName = input('enter first name :')\n",
    "lastName = input('enter last name : ')\n",
    "\n",
    "print('Full name : ',getFullName(firstName,lastName))"
   ]
  },
  {
   "cell_type": "markdown",
   "id": "f29f0895",
   "metadata": {},
   "source": [
    "Write function named “string_alternative” that returns every other char in the full_name string. \n"
   ]
  },
  {
   "cell_type": "code",
   "execution_count": 8,
   "id": "2bddf3aa",
   "metadata": {},
   "outputs": [],
   "source": [
    "def string_alternative(full_name):\n",
    "    words = full_name.split(' ')\n",
    "    altCharWors = ''\n",
    "    for i,word in enumerate(words):\n",
    "        words[i] = word[::2]\n",
    "    return ' '.join(words)"
   ]
  },
  {
   "cell_type": "code",
   "execution_count": 9,
   "id": "f0030c6b",
   "metadata": {},
   "outputs": [
    {
     "data": {
      "text/plain": [
       "'hlo wrd'"
      ]
     },
     "execution_count": 9,
     "metadata": {},
     "output_type": "execute_result"
    }
   ],
   "source": [
    "string_alternative('hello world')"
   ]
  },
  {
   "cell_type": "markdown",
   "id": "a559af1a",
   "metadata": {},
   "source": [
    "Write a python program to find the wordcount in a file (input.txt) for each line and then print the output.\n",
    "o Finally store the output in output.txt file."
   ]
  },
  {
   "cell_type": "code",
   "execution_count": 30,
   "id": "bb84ce70",
   "metadata": {},
   "outputs": [
    {
     "name": "stdout",
     "output_type": "stream",
     "text": [
      "{'python': 2, 'programming': 1, 'neural': 1, 'newtwork': 1}\n"
     ]
    }
   ],
   "source": [
    "with open('input.txt','r') as inputFile:\n",
    "    linesCount =0\n",
    "    freqWords = {}\n",
    "    outputFile = open('output.txt','w')\n",
    "    for line in inputFile:\n",
    "        linesCount += 1\n",
    "        outputFile.write(line)\n",
    "        words = line.strip('\\n').split(' ')\n",
    "        for word in words:\n",
    "            if word in freqWords :\n",
    "                freqWords[word] += 1\n",
    "            else:\n",
    "                freqWords[word] = 1\n",
    "    \n",
    "    outputFile.write(' \\n Word_Count:')\n",
    "    for key,value in freqWords.items():\n",
    "        outputFile.write(key + ' : ' + str(value) + '\\n')\n",
    "    print(freqWords)"
   ]
  },
  {
   "cell_type": "markdown",
   "id": "fbcd62e5",
   "metadata": {},
   "source": [
    "Write a program, which reads heights (inches.) of customers into a list and convert these\n",
    "heights to centimeters in a separate list using:\n",
    "\n"
   ]
  },
  {
   "cell_type": "code",
   "execution_count": 34,
   "id": "43cceb79",
   "metadata": {},
   "outputs": [
    {
     "name": "stdout",
     "output_type": "stream",
     "text": [
      "Enter the number of customers: 3\n",
      "Enter height of customer 1 in inches: 4\n",
      "Enter height of customer 2 in inches: 5\n",
      "Enter height of customer 3 in inches: 6\n",
      "[10.16, 12.7, 15.24]\n"
     ]
    }
   ],
   "source": [
    "def inch_to_cm(inch):\n",
    "    return 2.54 * inch\n",
    "\n",
    "heights_inches = []\n",
    "heights_cms = []\n",
    "num_customers = int(input(\"Enter the number of customers: \"))\n",
    "\n",
    "for i in range(num_customers):\n",
    "\n",
    "for inch in heights_inches :\n",
    "    heights_cms.append(inch_to_cm(inch))\n",
    "print(heights_cms)\n",
    "\n",
    "    height = float(input(f\"Enter height of customer {i + 1} in inches: \"))\n",
    "    heights_inches.append(height)"
   ]
  },
  {
   "cell_type": "code",
   "execution_count": 35,
   "id": "482135ea",
   "metadata": {},
   "outputs": [
    {
     "name": "stdout",
     "output_type": "stream",
     "text": [
      "Enter the number of customers: 3\n",
      "Enter height of customer 1 in inches: 4\n",
      "Enter height of customer 2 in inches: 5\n",
      "Enter height of customer 3 in inches: 6\n",
      "[10.16, 12.7, 15.24]\n"
     ]
    }
   ],
   "source": [
    "def inch_to_cm(inch):\n",
    "    return 2.54 * inch\n",
    "\n",
    "heights_inches = []\n",
    "heights_cms = []\n",
    "num_customers = int(input(\"Enter the number of customers: \"))\n",
    "\n",
    "heights_inches = [float(input(f\"Enter height of customer {i + 1} in inches: \")) for i in range(num_customers)]\n",
    "\n",
    "heights_cms = [ inch_to_cm(height) for height in heights_inches]\n",
    "\n",
    "print(heights_cms)\n"
   ]
  },
  {
   "cell_type": "code",
   "execution_count": null,
   "id": "412f0c3b",
   "metadata": {},
   "outputs": [],
   "source": []
  }
 ],
 "metadata": {
  "kernelspec": {
   "display_name": "Python 3 (ipykernel)",
   "language": "python",
   "name": "python3"
  },
  "language_info": {
   "codemirror_mode": {
    "name": "ipython",
    "version": 3
   },
   "file_extension": ".py",
   "mimetype": "text/x-python",
   "name": "python",
   "nbconvert_exporter": "python",
   "pygments_lexer": "ipython3",
   "version": "3.11.5"
  }
 },
 "nbformat": 4,
 "nbformat_minor": 5
}
