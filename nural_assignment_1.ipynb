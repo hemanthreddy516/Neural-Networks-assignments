{
  "nbformat": 4,
  "nbformat_minor": 0,
  "metadata": {
    "colab": {
      "provenance": []
    },
    "kernelspec": {
      "name": "python3",
      "display_name": "Python 3"
    },
    "language_info": {
      "name": "python"
    }
  },
  "cells": [
    {
      "cell_type": "markdown",
      "source": [
        "**1.A Write a python program for the following:\n",
        "  Input the string “Python” as a list of characters from console, delete at least 2 characters, reverse the\n",
        "  resultantstring and print it**"
      ],
      "metadata": {
        "id": "FOYi-2H6eV_8"
      }
    },
    {
      "cell_type": "code",
      "source": [
        "input_str = list(input('enter the string : '))\n",
        "if len(input_str) >= 2:\n",
        "  print(''.join(input_str[:1:-1]))"
      ],
      "metadata": {
        "colab": {
          "base_uri": "https://localhost:8080/"
        },
        "id": "MuPObJhMebjb",
        "outputId": "5045d63a-2cbc-4c45-afff-77b88146c9ae"
      },
      "execution_count": 4,
      "outputs": [
        {
          "output_type": "stream",
          "name": "stdout",
          "text": [
            "enter the string : hemanth\n",
            "htnam\n"
          ]
        }
      ]
    },
    {
      "cell_type": "markdown",
      "source": [
        "**1.B  Take two numbers from user and perform at least 4 arithmetic operations on them.**"
      ],
      "metadata": {
        "id": "T36woV9Wf8dw"
      }
    },
    {
      "cell_type": "code",
      "source": [
        "a = int(input('enter number 1 : '))\n",
        "b = int(input('enter number 2 : '))\n",
        "print('addition : ',a+b)\n",
        "print('subtraction : ',a-b)\n",
        "print('division : ',a/b)\n",
        "print('multiplicaiton : ',a*b)"
      ],
      "metadata": {
        "colab": {
          "base_uri": "https://localhost:8080/"
        },
        "id": "P1NbuokggEmQ",
        "outputId": "61ff6047-2092-4711-e141-9f68c70fee88"
      },
      "execution_count": 7,
      "outputs": [
        {
          "output_type": "stream",
          "name": "stdout",
          "text": [
            "enter number 1 : 4\n",
            "enter number 2 : 10\n",
            "addition :  14\n",
            "subtraction :  -6\n",
            "division :  0.4\n",
            "multiplicaiton :  40\n"
          ]
        }
      ]
    },
    {
      "cell_type": "markdown",
      "source": [
        "**2. Write a program that accepts a sentence and replace each occurrence of ‘python’ with ‘pythons’**"
      ],
      "metadata": {
        "id": "rL32hqZIg0Js"
      }
    },
    {
      "cell_type": "code",
      "source": [
        "sentence = input('enter sentence : ')\n",
        "sentence.replace('python','pythons')"
      ],
      "metadata": {
        "colab": {
          "base_uri": "https://localhost:8080/",
          "height": 53
        },
        "id": "gZSAdOoLg6tt",
        "outputId": "ef9a826e-ce0b-468f-c022-8e5457ff1480"
      },
      "execution_count": 9,
      "outputs": [
        {
          "name": "stdout",
          "output_type": "stream",
          "text": [
            "enter sentence : im python in python\n"
          ]
        },
        {
          "output_type": "execute_result",
          "data": {
            "text/plain": [
              "'im pythons in pythons'"
            ],
            "application/vnd.google.colaboratory.intrinsic+json": {
              "type": "string"
            }
          },
          "metadata": {},
          "execution_count": 9
        }
      ]
    },
    {
      "cell_type": "markdown",
      "source": [
        "**3. Use the if statement conditions to write a program to print the letter grade based on an input class score. Use the\n",
        "grading scheme we are using in this class.**"
      ],
      "metadata": {
        "id": "qIjhoU6whyOL"
      }
    },
    {
      "cell_type": "code",
      "source": [
        "grade = int(input('enter grade value : '))\n",
        "if grade >= 90:\n",
        "  print('A GRADE')\n",
        "elif grade >= 80 and grade < 90:\n",
        "  print('B GRADE')\n",
        "elif grade >= 70 and grade < 80:\n",
        "  print('C GRADE')\n",
        "elif grade >= 60 and grade < 70:\n",
        "  print('D GRADE')\n",
        "else :\n",
        "  print('F GRADE')"
      ],
      "metadata": {
        "colab": {
          "base_uri": "https://localhost:8080/"
        },
        "id": "683WJOach1qh",
        "outputId": "89778d94-3a93-48f3-ac67-00a9f723d960"
      },
      "execution_count": 11,
      "outputs": [
        {
          "output_type": "stream",
          "name": "stdout",
          "text": [
            "enter grade value : 90\n",
            "A GRADE\n"
          ]
        }
      ]
    },
    {
      "cell_type": "code",
      "source": [],
      "metadata": {
        "id": "ZWmOQexQjBYK"
      },
      "execution_count": null,
      "outputs": []
    }
  ]
}