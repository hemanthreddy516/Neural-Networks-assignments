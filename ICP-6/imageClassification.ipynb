{
  "nbformat": 4,
  "nbformat_minor": 0,
  "metadata": {
    "colab": {
      "provenance": []
    },
    "kernelspec": {
      "name": "python3",
      "display_name": "Python 3"
    },
    "language_info": {
      "name": "python"
    }
  },
  "cells": [
    {
      "cell_type": "markdown",
      "source": [],
      "metadata": {
        "id": "8YvH-vXh5HzN"
      }
    },
    {
      "cell_type": "markdown",
      "source": [
        "# Use Image Classification on the hand written digits data set (mnist)\n"
      ],
      "metadata": {
        "id": "Z_Wezb9u5JbP"
      }
    },
    {
      "cell_type": "code",
      "execution_count": 1,
      "metadata": {
        "id": "nkPjxT9E5MME"
      },
      "outputs": [],
      "source": [
        "from keras import Sequential\n",
        "from keras.datasets import mnist\n",
        "import numpy as np\n",
        "from keras.layers import Dense\n",
        "from keras.utils import to_categorical"
      ]
    },
    {
      "cell_type": "code",
      "execution_count": 2,
      "metadata": {
        "id": "bncyB5B45A6A",
        "colab": {
          "base_uri": "https://localhost:8080/"
        },
        "outputId": "d77cc24f-39c8-4cb8-8b3b-c9e3433d3ded"
      },
      "outputs": [
        {
          "output_type": "stream",
          "name": "stdout",
          "text": [
            "Downloading data from https://storage.googleapis.com/tensorflow/tf-keras-datasets/mnist.npz\n",
            "11490434/11490434 [==============================] - 0s 0us/step\n"
          ]
        }
      ],
      "source": [
        "(train_images,train_labels),(test_images, test_labels) = mnist.load_data()"
      ]
    },
    {
      "cell_type": "code",
      "source": [
        "import matplotlib.pyplot as plt\n",
        "\n",
        "#display the first image in the training data\n",
        "plt.imshow(train_images[0,:,:],cmap='gray')\n",
        "plt.title('Ground Truth : {}'.format(train_labels[0]))\n",
        "plt.show()"
      ],
      "metadata": {
        "colab": {
          "base_uri": "https://localhost:8080/",
          "height": 452
        },
        "id": "MWTrsA-J5UP_",
        "outputId": "1a8d8615-3ee6-41a3-e987-9cac5832db15"
      },
      "execution_count": 3,
      "outputs": [
        {
          "output_type": "display_data",
          "data": {
            "text/plain": [
              "<Figure size 640x480 with 1 Axes>"
            ],
            "image/png": "[encoded data removed]"
          },
          "metadata": {}
        }
      ]
    },
    {
      "cell_type": "code",
      "source": [
        "train_images.shape[1:]"
      ],
      "metadata": {
        "colab": {
          "base_uri": "https://localhost:8080/"
        },
        "id": "x1uN2Ruq5WY2",
        "outputId": "4ad8984c-4a45-4618-d548-ab672921e865"
      },
      "execution_count": 4,
      "outputs": [
        {
          "output_type": "execute_result",
          "data": {
            "text/plain": [
              "(28, 28)"
            ]
          },
          "metadata": {},
          "execution_count": 4
        }
      ]
    },
    {
      "cell_type": "code",
      "source": [
        "#process the data\n",
        "#1. convert each image of shape 28*28 to 784 dimensional which will be fed to the network as a single feature\n",
        "dimData = np.prod(train_images.shape[1:])\n",
        "print(dimData)\n",
        "train_data = train_images.reshape(train_images.shape[0],dimData)\n",
        "test_data = test_images.reshape(test_images.shape[0],dimData)"
      ],
      "metadata": {
        "colab": {
          "base_uri": "https://localhost:8080/"
        },
        "id": "fqh6Lb945YOf",
        "outputId": "29b2ddcf-ba59-4f1e-a1b3-0d8c4596accb"
      },
      "execution_count": 5,
      "outputs": [
        {
          "output_type": "stream",
          "name": "stdout",
          "text": [
            "784\n"
          ]
        }
      ]
    },
    {
      "cell_type": "code",
      "source": [
        "#convert data to float and scale values between 0 and 1\n",
        "train_data = train_data.astype('float')\n",
        "test_data = test_data.astype('float')"
      ],
      "metadata": {
        "id": "6zUzTUt85aMk"
      },
      "execution_count": 6,
      "outputs": []
    },
    {
      "cell_type": "code",
      "source": [
        "#scale data\n",
        "train_data /=255.0\n",
        "test_data /=255.0"
      ],
      "metadata": {
        "id": "H8joNZYG5bkO"
      },
      "execution_count": 7,
      "outputs": []
    },
    {
      "cell_type": "code",
      "source": [
        "\n",
        "#change the labels frominteger to one-hot encoding. to_categorical is doing the same thing as LabelEncoder()\n",
        "train_labels_one_hot = to_categorical(train_labels)\n",
        "test_labels_one_hot = to_categorical(test_labels)\n"
      ],
      "metadata": {
        "id": "T5rqWkGN5c3P"
      },
      "execution_count": 8,
      "outputs": []
    },
    {
      "cell_type": "code",
      "source": [
        "#creating network\n",
        "model = Sequential()\n",
        "model.add(Dense(512, activation='relu', input_shape=(dimData,)))\n",
        "model.add(Dense(512, activation='relu'))\n",
        "model.add(Dense(10, activation='softmax'))"
      ],
      "metadata": {
        "id": "wOZXfPdv5erS"
      },
      "execution_count": 9,
      "outputs": []
    },
    {
      "cell_type": "markdown",
      "source": [
        "# 1. Plot the loss and accuracy for both training data and validation data using the history object in the source code."
      ],
      "metadata": {
        "id": "1pwFis5L5iIb"
      }
    },
    {
      "cell_type": "code",
      "source": [
        "model.compile(optimizer='rmsprop', loss='categorical_crossentropy', metrics=['accuracy'])\n",
        "history = model.fit(train_data, train_labels_one_hot, batch_size=256, epochs=10, verbose=1,\n",
        "                   validation_data=(test_data, test_labels_one_hot))"
      ],
      "metadata": {
        "colab": {
          "base_uri": "https://localhost:8080/"
        },
        "id": "GMpIXbvr5lUz",
        "outputId": "8c9156b2-a371-43e0-fd7d-9353f9d3ff25"
      },
      "execution_count": 10,
      "outputs": [
        {
          "output_type": "stream",
          "name": "stdout",
          "text": [
            "Epoch 1/10\n",
            "235/235 [==============================] - 5s 18ms/step - loss: 0.2930 - accuracy: 0.9092 - val_loss: 0.1336 - val_accuracy: 0.9580\n",
            "Epoch 2/10\n",
            "235/235 [==============================] - 5s 22ms/step - loss: 0.1005 - accuracy: 0.9685 - val_loss: 0.0868 - val_accuracy: 0.9708\n",
            "Epoch 3/10\n",
            "235/235 [==============================] - 4s 17ms/step - loss: 0.0642 - accuracy: 0.9796 - val_loss: 0.0833 - val_accuracy: 0.9737\n",
            "Epoch 4/10\n",
            "235/235 [==============================] - 4s 17ms/step - loss: 0.0436 - accuracy: 0.9869 - val_loss: 0.0685 - val_accuracy: 0.9776\n",
            "Epoch 5/10\n",
            "235/235 [==============================] - 4s 17ms/step - loss: 0.0297 - accuracy: 0.9908 - val_loss: 0.0936 - val_accuracy: 0.9702\n",
            "Epoch 6/10\n",
            "235/235 [==============================] - 4s 15ms/step - loss: 0.0235 - accuracy: 0.9924 - val_loss: 0.0679 - val_accuracy: 0.9815\n",
            "Epoch 7/10\n",
            "235/235 [==============================] - 4s 16ms/step - loss: 0.0167 - accuracy: 0.9948 - val_loss: 0.0925 - val_accuracy: 0.9749\n",
            "Epoch 8/10\n",
            "235/235 [==============================] - 4s 17ms/step - loss: 0.0121 - accuracy: 0.9962 - val_loss: 0.0742 - val_accuracy: 0.9816\n",
            "Epoch 9/10\n",
            "235/235 [==============================] - 4s 15ms/step - loss: 0.0098 - accuracy: 0.9967 - val_loss: 0.0730 - val_accuracy: 0.9825\n",
            "Epoch 10/10\n",
            "235/235 [==============================] - 4s 15ms/step - loss: 0.0075 - accuracy: 0.9976 - val_loss: 0.0777 - val_accuracy: 0.9815\n"
          ]
        }
      ]
    },
    {
      "cell_type": "code",
      "source": [
        "[test_loss, test_acc] = model.evaluate(test_data, test_labels_one_hot)\n",
        "print(\"Evaluation result on Test Data : Loss = {}, accuracy = {}\".format(test_loss, test_acc))"
      ],
      "metadata": {
        "colab": {
          "base_uri": "https://localhost:8080/"
        },
        "id": "ZDYbasxB5nKv",
        "outputId": "0d111375-ca95-4c73-e3e8-f447606a7cb1"
      },
      "execution_count": 11,
      "outputs": [
        {
          "output_type": "stream",
          "name": "stdout",
          "text": [
            "313/313 [==============================] - 1s 3ms/step - loss: 0.0777 - accuracy: 0.9815\n",
            "Evaluation result on Test Data : Loss = 0.07773816585540771, accuracy = 0.9815000295639038\n"
          ]
        }
      ]
    },
    {
      "cell_type": "code",
      "source": [
        "history.history.keys()"
      ],
      "metadata": {
        "colab": {
          "base_uri": "https://localhost:8080/"
        },
        "id": "V1160av15o1l",
        "outputId": "421035a8-01da-4136-930a-3fae69735149"
      },
      "execution_count": 12,
      "outputs": [
        {
          "output_type": "execute_result",
          "data": {
            "text/plain": [
              "dict_keys(['loss', 'accuracy', 'val_loss', 'val_accuracy'])"
            ]
          },
          "metadata": {},
          "execution_count": 12
        }
      ]
    },
    {
      "cell_type": "code",
      "source": [
        "plt.plot(history.history['accuracy'])\n",
        "plt.plot(history.history['val_accuracy'])\n",
        "plt.plot(history.history['loss'])\n",
        "plt.plot(history.history['val_loss'])\n",
        "plt.title('model accuracy')\n",
        "plt.ylabel('accuracy')\n",
        "plt.xlabel('epoch')\n",
        "plt.legend(['accuracy', 'val_accuracy','loss','val_loss'], loc='upper left')\n",
        "plt.show()"
      ],
      "metadata": {
        "colab": {
          "base_uri": "https://localhost:8080/",
          "height": 472
        },
        "id": "qj3gPRjl58Wk",
        "outputId": "4a481db2-4cf3-4d2d-f1bf-c76e82455659"
      },
      "execution_count": 13,
      "outputs": [
        {
          "output_type": "display_data",
          "data": {
            "text/plain": [
              "<Figure size 640x480 with 1 Axes>"
            ],
            "image/png": "[encoded data removed]"
          },
          "metadata": {}
        }
      ]
    },
    {
      "cell_type": "markdown",
      "source": [
        "# 2. Plot one of the images in the test data, and then do inferencing to check what is the prediction of the model on that single image."
      ],
      "metadata": {
        "id": "v4o8HVwW5_y2"
      }
    },
    {
      "cell_type": "code",
      "source": [
        "plt.imshow(test_data[0].reshape(28,28));"
      ],
      "metadata": {
        "colab": {
          "base_uri": "https://localhost:8080/",
          "height": 430
        },
        "id": "eNu7K_Ff6B4a",
        "outputId": "0f90eab6-c429-4342-cf3f-9dc5bc36f0d5"
      },
      "execution_count": 14,
      "outputs": [
        {
          "output_type": "display_data",
          "data": {
            "text/plain": [
              "<Figure size 640x480 with 1 Axes>"
            ],
            "image/png": "[encoded data removed]"
          },
          "metadata": {}
        }
      ]
    },
    {
      "cell_type": "code",
      "source": [
        "print(\"predicted label:\",model.predict(test_data[0].reshape(1,784)))"
      ],
      "metadata": {
        "colab": {
          "base_uri": "https://localhost:8080/"
        },
        "id": "ilnVc5u_6Dx_",
        "outputId": "0f2d8a8b-cd41-48bb-e533-6adb72eff67e"
      },
      "execution_count": 15,
      "outputs": [
        {
          "output_type": "stream",
          "name": "stdout",
          "text": [
            "1/1 [==============================] - 0s 58ms/step\n",
            "predicted label: [[3.3195668e-12 2.7578282e-09 6.5644873e-10 6.4444293e-08 4.3635527e-13\n",
            "  1.6975851e-12 1.4984657e-15 9.9999988e-01 1.4434943e-12 1.0142290e-09]]\n"
          ]
        }
      ]
    },
    {
      "cell_type": "code",
      "source": [],
      "metadata": {
        "id": "rAj3wGpb6FsH"
      },
      "execution_count": null,
      "outputs": []
    },
    {
      "cell_type": "markdown",
      "source": [
        "# 3. We had used 2 hidden layers and Relu activation. Try to change the number of hidden layer and the activation to tanh or sigmoid and see what happens."
      ],
      "metadata": {
        "id": "2nZ3NngR6Hmw"
      }
    },
    {
      "cell_type": "code",
      "source": [
        "#increasing the number of hidden layers to 4\n",
        "model = Sequential()\n",
        "model.add(Dense(512, activation='relu', input_shape=(dimData,)))\n",
        "model.add(Dense(512, activation='relu'))\n",
        "model.add(Dense(512, activation='relu'))\n",
        "model.add(Dense(512, activation='relu'))\n",
        "model.add(Dense(10, activation='softmax'))\n",
        "\n",
        "model.compile(optimizer='rmsprop', loss='categorical_crossentropy', metrics=['accuracy'])\n",
        "history = model.fit(train_data, train_labels_one_hot, batch_size=256, epochs=10, verbose=1,\n",
        "                   validation_data=(test_data, test_labels_one_hot))\n",
        "\n",
        "[test_loss1, test_acc1] = model.evaluate(test_data, test_labels_one_hot)\n",
        "print(\"Evaluation result on Test Data with 4 hidden layers: Loss = {}, accuracy = {}\".format(test_loss1, test_acc1))\n"
      ],
      "metadata": {
        "colab": {
          "base_uri": "https://localhost:8080/"
        },
        "id": "MlOspFVV6JHf",
        "outputId": "6b2ed33b-0e13-4a87-8b51-b67a59151956"
      },
      "execution_count": 16,
      "outputs": [
        {
          "output_type": "stream",
          "name": "stdout",
          "text": [
            "Epoch 1/10\n",
            "235/235 [==============================] - 8s 31ms/step - loss: 0.3379 - accuracy: 0.8941 - val_loss: 0.2019 - val_accuracy: 0.9377\n",
            "Epoch 2/10\n",
            "235/235 [==============================] - 7s 31ms/step - loss: 0.1064 - accuracy: 0.9674 - val_loss: 0.1346 - val_accuracy: 0.9575\n",
            "Epoch 3/10\n",
            "235/235 [==============================] - 7s 29ms/step - loss: 0.0696 - accuracy: 0.9789 - val_loss: 0.0823 - val_accuracy: 0.9736\n",
            "Epoch 4/10\n",
            "235/235 [==============================] - 7s 30ms/step - loss: 0.0478 - accuracy: 0.9853 - val_loss: 0.1028 - val_accuracy: 0.9703\n",
            "Epoch 5/10\n",
            "235/235 [==============================] - 7s 30ms/step - loss: 0.0343 - accuracy: 0.9893 - val_loss: 0.0840 - val_accuracy: 0.9762\n",
            "Epoch 6/10\n",
            "235/235 [==============================] - 7s 32ms/step - loss: 0.0273 - accuracy: 0.9917 - val_loss: 0.1182 - val_accuracy: 0.9705\n",
            "Epoch 7/10\n",
            "235/235 [==============================] - 8s 32ms/step - loss: 0.0213 - accuracy: 0.9930 - val_loss: 0.0765 - val_accuracy: 0.9801\n",
            "Epoch 8/10\n",
            "235/235 [==============================] - 7s 29ms/step - loss: 0.0166 - accuracy: 0.9946 - val_loss: 0.0901 - val_accuracy: 0.9789\n",
            "Epoch 9/10\n",
            "235/235 [==============================] - 8s 33ms/step - loss: 0.0149 - accuracy: 0.9955 - val_loss: 0.0823 - val_accuracy: 0.9794\n",
            "Epoch 10/10\n",
            "235/235 [==============================] - 8s 32ms/step - loss: 0.0112 - accuracy: 0.9966 - val_loss: 0.0995 - val_accuracy: 0.9773\n",
            "313/313 [==============================] - 1s 3ms/step - loss: 0.0995 - accuracy: 0.9773\n",
            "Evaluation result on Test Data with 4 hidden layers: Loss = 0.09952478855848312, accuracy = 0.9772999882698059\n"
          ]
        }
      ]
    },
    {
      "cell_type": "code",
      "source": [
        "\n",
        "#increasing the dense in hidden layers\n",
        "model = Sequential()\n",
        "model.add(Dense(512, activation='relu', input_shape=(dimData,)))\n",
        "model.add(Dense(612, activation='relu'))\n",
        "model.add(Dense(712, activation='relu'))\n",
        "model.add(Dense(812, activation='relu'))\n",
        "model.add(Dense(10, activation='softmax'))\n",
        "\n",
        "model.compile(optimizer='rmsprop', loss='categorical_crossentropy', metrics=['accuracy'])\n",
        "history = model.fit(train_data, train_labels_one_hot, batch_size=256, epochs=10, verbose=1,\n",
        "                   validation_data=(test_data, test_labels_one_hot))\n",
        "\n",
        "[test_loss2, test_acc2] = model.evaluate(test_data, test_labels_one_hot)\n",
        "print(\"Evaluation result on Test Data with increase in dense in hidden layers: Loss = {}, accuracy = {}\".format(test_loss2, test_acc2))\n"
      ],
      "metadata": {
        "colab": {
          "base_uri": "https://localhost:8080/"
        },
        "id": "-Cz-tUw_6LnZ",
        "outputId": "95598d18-b64c-4a64-a8b1-c5afd62a2818"
      },
      "execution_count": 17,
      "outputs": [
        {
          "output_type": "stream",
          "name": "stdout",
          "text": [
            "Epoch 1/10\n",
            "235/235 [==============================] - 11s 44ms/step - loss: 0.3443 - accuracy: 0.8895 - val_loss: 0.1151 - val_accuracy: 0.9659\n",
            "Epoch 2/10\n",
            "235/235 [==============================] - 12s 50ms/step - loss: 0.1049 - accuracy: 0.9683 - val_loss: 0.0961 - val_accuracy: 0.9716\n",
            "Epoch 3/10\n",
            "235/235 [==============================] - 10s 45ms/step - loss: 0.0650 - accuracy: 0.9801 - val_loss: 0.1004 - val_accuracy: 0.9684\n",
            "Epoch 4/10\n",
            "235/235 [==============================] - 10s 42ms/step - loss: 0.0449 - accuracy: 0.9863 - val_loss: 0.0738 - val_accuracy: 0.9784\n",
            "Epoch 5/10\n",
            "235/235 [==============================] - 9s 38ms/step - loss: 0.0319 - accuracy: 0.9897 - val_loss: 0.0787 - val_accuracy: 0.9783\n",
            "Epoch 6/10\n",
            "235/235 [==============================] - 9s 39ms/step - loss: 0.0268 - accuracy: 0.9916 - val_loss: 0.0688 - val_accuracy: 0.9807\n",
            "Epoch 7/10\n",
            "235/235 [==============================] - 9s 39ms/step - loss: 0.0203 - accuracy: 0.9936 - val_loss: 0.0776 - val_accuracy: 0.9818\n",
            "Epoch 8/10\n",
            "235/235 [==============================] - 9s 40ms/step - loss: 0.0169 - accuracy: 0.9944 - val_loss: 0.0847 - val_accuracy: 0.9819\n",
            "Epoch 9/10\n",
            "235/235 [==============================] - 9s 40ms/step - loss: 0.0138 - accuracy: 0.9958 - val_loss: 0.0894 - val_accuracy: 0.9802\n",
            "Epoch 10/10\n",
            "235/235 [==============================] - 9s 37ms/step - loss: 0.0116 - accuracy: 0.9962 - val_loss: 0.0853 - val_accuracy: 0.9822\n",
            "313/313 [==============================] - 1s 4ms/step - loss: 0.0853 - accuracy: 0.9822\n",
            "Evaluation result on Test Data with increase in dense in hidden layers: Loss = 0.08534839749336243, accuracy = 0.982200026512146\n"
          ]
        }
      ]
    },
    {
      "cell_type": "code",
      "source": [
        "#All hidden layers with tanh activation\n",
        "model = Sequential()\n",
        "model.add(Dense(512, activation='tanh', input_shape=(dimData,)))\n",
        "model.add(Dense(612, activation='tanh'))\n",
        "model.add(Dense(712, activation='tanh'))\n",
        "model.add(Dense(812, activation='tanh'))\n",
        "model.add(Dense(10, activation='softmax'))\n",
        "\n",
        "model.compile(optimizer='rmsprop', loss='categorical_crossentropy', metrics=['accuracy'])\n",
        "history = model.fit(train_data, train_labels_one_hot, batch_size=256, epochs=10, verbose=1,\n",
        "                   validation_data=(test_data, test_labels_one_hot))\n",
        "\n",
        "[test_loss3, test_acc3] = model.evaluate(test_data, test_labels_one_hot)\n",
        "print(\"Evaluation result on Test Data with tanh activation: Loss = {}, accuracy = {}\".format(test_loss3, test_acc3))\n",
        ""
      ],
      "metadata": {
        "colab": {
          "base_uri": "https://localhost:8080/"
        },
        "id": "g8BTIW7u6Wwy",
        "outputId": "2521a68b-7843-4109-cdae-75a4ceaaf11d"
      },
      "execution_count": 18,
      "outputs": [
        {
          "output_type": "stream",
          "name": "stdout",
          "text": [
            "Epoch 1/10\n",
            "235/235 [==============================] - 11s 43ms/step - loss: 0.5833 - accuracy: 0.8402 - val_loss: 0.2369 - val_accuracy: 0.9297\n",
            "Epoch 2/10\n",
            "235/235 [==============================] - 9s 38ms/step - loss: 0.1724 - accuracy: 0.9477 - val_loss: 0.1950 - val_accuracy: 0.9366\n",
            "Epoch 3/10\n",
            "235/235 [==============================] - 9s 40ms/step - loss: 0.1070 - accuracy: 0.9675 - val_loss: 0.1248 - val_accuracy: 0.9631\n",
            "Epoch 4/10\n",
            "235/235 [==============================] - 9s 40ms/step - loss: 0.0759 - accuracy: 0.9760 - val_loss: 0.1797 - val_accuracy: 0.9455\n",
            "Epoch 5/10\n",
            "235/235 [==============================] - 9s 40ms/step - loss: 0.0546 - accuracy: 0.9831 - val_loss: 0.1002 - val_accuracy: 0.9688\n",
            "Epoch 6/10\n",
            "235/235 [==============================] - 9s 40ms/step - loss: 0.0387 - accuracy: 0.9874 - val_loss: 0.0875 - val_accuracy: 0.9741\n",
            "Epoch 7/10\n",
            "235/235 [==============================] - 10s 42ms/step - loss: 0.0278 - accuracy: 0.9910 - val_loss: 0.1080 - val_accuracy: 0.9694\n",
            "Epoch 8/10\n",
            "235/235 [==============================] - 9s 39ms/step - loss: 0.0234 - accuracy: 0.9924 - val_loss: 0.0738 - val_accuracy: 0.9780\n",
            "Epoch 9/10\n",
            "235/235 [==============================] - 10s 42ms/step - loss: 0.0143 - accuracy: 0.9959 - val_loss: 0.1169 - val_accuracy: 0.9686\n",
            "Epoch 10/10\n",
            "235/235 [==============================] - 14s 60ms/step - loss: 0.0111 - accuracy: 0.9965 - val_loss: 0.1009 - val_accuracy: 0.9741\n",
            "313/313 [==============================] - 1s 5ms/step - loss: 0.1009 - accuracy: 0.9741\n",
            "Evaluation result on Test Data with tanh activation: Loss = 0.10085403174161911, accuracy = 0.9740999937057495\n"
          ]
        }
      ]
    },
    {
      "cell_type": "code",
      "source": [
        "#All hidden layers with sigmoid activation\n",
        "model = Sequential()\n",
        "model.add(Dense(512, activation='sigmoid', input_shape=(dimData,)))\n",
        "model.add(Dense(612, activation='sigmoid'))\n",
        "model.add(Dense(712, activation='sigmoid'))\n",
        "model.add(Dense(812, activation='sigmoid'))\n",
        "model.add(Dense(10, activation='softmax'))\n",
        "\n",
        "model.compile(optimizer='rmsprop', loss='categorical_crossentropy', metrics=['accuracy'])\n",
        "history = model.fit(train_data, train_labels_one_hot, batch_size=256, epochs=10, verbose=1,\n",
        "                   validation_data=(test_data, test_labels_one_hot))\n",
        "\n",
        "[test_loss4, test_acc4] = model.evaluate(test_data, test_labels_one_hot)\n",
        "print(\"Evaluation result on Test Data with sigmoid activation: Loss = {}, accuracy = {}\".format(test_loss4, test_acc4))\n"
      ],
      "metadata": {
        "colab": {
          "base_uri": "https://localhost:8080/"
        },
        "id": "ZzhESKlT6ajP",
        "outputId": "475c45a5-64ed-44f9-c091-e12aa7440b32"
      },
      "execution_count": 19,
      "outputs": [
        {
          "output_type": "stream",
          "name": "stdout",
          "text": [
            "Epoch 1/10\n",
            "235/235 [==============================] - 10s 40ms/step - loss: 2.1096 - accuracy: 0.1930 - val_loss: 1.7013 - val_accuracy: 0.2830\n",
            "Epoch 2/10\n",
            "235/235 [==============================] - 10s 41ms/step - loss: 1.1475 - accuracy: 0.5618 - val_loss: 0.6733 - val_accuracy: 0.7685\n",
            "Epoch 3/10\n",
            "235/235 [==============================] - 10s 41ms/step - loss: 0.5684 - accuracy: 0.8196 - val_loss: 0.4574 - val_accuracy: 0.8654\n",
            "Epoch 4/10\n",
            "235/235 [==============================] - 10s 41ms/step - loss: 0.4064 - accuracy: 0.8764 - val_loss: 0.3517 - val_accuracy: 0.8890\n",
            "Epoch 5/10\n",
            "235/235 [==============================] - 10s 41ms/step - loss: 0.3117 - accuracy: 0.9050 - val_loss: 0.2633 - val_accuracy: 0.9182\n",
            "Epoch 6/10\n",
            "235/235 [==============================] - 10s 41ms/step - loss: 0.2490 - accuracy: 0.9238 - val_loss: 0.2609 - val_accuracy: 0.9183\n",
            "Epoch 7/10\n",
            "235/235 [==============================] - 10s 42ms/step - loss: 0.2035 - accuracy: 0.9377 - val_loss: 0.1928 - val_accuracy: 0.9420\n",
            "Epoch 8/10\n",
            "235/235 [==============================] - 9s 39ms/step - loss: 0.1726 - accuracy: 0.9466 - val_loss: 0.1635 - val_accuracy: 0.9492\n",
            "Epoch 9/10\n",
            "235/235 [==============================] - 10s 44ms/step - loss: 0.1509 - accuracy: 0.9539 - val_loss: 0.1779 - val_accuracy: 0.9436\n",
            "Epoch 10/10\n",
            "235/235 [==============================] - 10s 41ms/step - loss: 0.1346 - accuracy: 0.9585 - val_loss: 0.1393 - val_accuracy: 0.9586\n",
            "313/313 [==============================] - 1s 4ms/step - loss: 0.1393 - accuracy: 0.9586\n",
            "Evaluation result on Test Data with sigmoid activation: Loss = 0.13928496837615967, accuracy = 0.9585999846458435\n"
          ]
        }
      ]
    },
    {
      "cell_type": "code",
      "source": [
        "print(\"Evaluation result on Test Data with 2 hidden layers: Loss = {}, accuracy = {}\".format(test_loss, test_acc))\n",
        "print(\"Evaluation result on Test Data with 4 hidden layers: Loss = {}, accuracy = {}\".format(test_loss1, test_acc1))\n",
        "print(\"Evaluation result on Test Data with increase in dense in hidden layers: Loss = {}, accuracy = {}\".format(test_loss2, test_acc2))\n",
        "print(\"Evaluation result on Test Data with tanh activation: Loss = {}, accuracy = {}\".format(test_loss3, test_acc3))\n",
        "print(\"Evaluation result on Test Data with sigmoid activation: Loss = {}, accuracy = {}\".format(test_loss4, test_acc4))\n",
        ""
      ],
      "metadata": {
        "colab": {
          "base_uri": "https://localhost:8080/"
        },
        "id": "Il8fMpcH6dYN",
        "outputId": "8e56d201-3d0b-4fef-c385-ac7706a2dbec"
      },
      "execution_count": 20,
      "outputs": [
        {
          "output_type": "stream",
          "name": "stdout",
          "text": [
            "Evaluation result on Test Data with 2 hidden layers: Loss = 0.07773816585540771, accuracy = 0.9815000295639038\n",
            "Evaluation result on Test Data with 4 hidden layers: Loss = 0.09952478855848312, accuracy = 0.9772999882698059\n",
            "Evaluation result on Test Data with increase in dense in hidden layers: Loss = 0.08534839749336243, accuracy = 0.982200026512146\n",
            "Evaluation result on Test Data with tanh activation: Loss = 0.10085403174161911, accuracy = 0.9740999937057495\n",
            "Evaluation result on Test Data with sigmoid activation: Loss = 0.13928496837615967, accuracy = 0.9585999846458435\n"
          ]
        }
      ]
    },
    {
      "cell_type": "code",
      "source": [],
      "metadata": {
        "id": "j57rGfin6flO"
      },
      "execution_count": null,
      "outputs": []
    },
    {
      "cell_type": "markdown",
      "source": [
        "# 4. Run the same code without scaling the images and check the performance?"
      ],
      "metadata": {
        "id": "UhHtDIQ_6hQ9"
      }
    },
    {
      "cell_type": "code",
      "source": [
        "from keras import Sequential\n",
        "from keras.datasets import mnist\n",
        "import numpy as np\n",
        "from keras.layers import Dense\n",
        "from keras.utils import to_categorical\n",
        "\n",
        "(train_images,train_labels),(test_images, test_labels) = mnist.load_data()\n",
        "\n",
        "print(train_images.shape[1:])\n",
        "#process the data\n",
        "#1. convert each image of shape 28*28 to 784 dimensional which will be fed to the network as a single feature\n",
        "dimData = np.prod(train_images.shape[1:])\n",
        "# print(dimData)\n",
        "train_data = train_images.reshape(train_images.shape[0],dimData)\n",
        "test_data = test_images.reshape(test_images.shape[0],dimData)\n",
        "\n",
        "#convert data to float and scale values between 0 and 1\n",
        "train_data = train_data.astype('float')\n",
        "test_data = test_data.astype('float')\n",
        "\n",
        "#change the labels frominteger to one-hot encoding. to_categorical is doing the same thing as LabelEncoder()\n",
        "train_labels_one_hot = to_categorical(train_labels)\n",
        "test_labels_one_hot = to_categorical(test_labels)\n",
        "\n",
        "#creating network\n",
        "model = Sequential()\n",
        "model.add(Dense(512, activation='relu', input_shape=(dimData,)))\n",
        "model.add(Dense(512, activation='relu'))\n",
        "model.add(Dense(10, activation='softmax'))\n",
        "\n",
        "model.compile(optimizer='rmsprop', loss='categorical_crossentropy', metrics=['accuracy'])\n",
        "history = model.fit(train_data, train_labels_one_hot, batch_size=256, epochs=10, verbose=1,\n",
        "                   validation_data=(test_data, test_labels_one_hot))\n",
        "\n",
        "[test_loss5, test_acc5] = model.evaluate(test_data, test_labels_one_hot)\n",
        "print(\"Evaluation result on Test Data without scaling: Loss = {}, accuracy = {}\".format(test_loss5, test_acc5))\n"
      ],
      "metadata": {
        "colab": {
          "base_uri": "https://localhost:8080/"
        },
        "id": "MJeGMws66ikF",
        "outputId": "8734b106-6c13-4b9f-fabf-e4470fecd6cf"
      },
      "execution_count": 21,
      "outputs": [
        {
          "output_type": "stream",
          "name": "stdout",
          "text": [
            "(28, 28)\n",
            "Epoch 1/10\n",
            "235/235 [==============================] - 5s 19ms/step - loss: 7.0621 - accuracy: 0.8749 - val_loss: 0.7550 - val_accuracy: 0.9204\n",
            "Epoch 2/10\n",
            "235/235 [==============================] - 4s 16ms/step - loss: 0.4214 - accuracy: 0.9456 - val_loss: 0.5094 - val_accuracy: 0.9313\n",
            "Epoch 3/10\n",
            "235/235 [==============================] - 4s 15ms/step - loss: 0.2566 - accuracy: 0.9585 - val_loss: 0.4017 - val_accuracy: 0.9406\n",
            "Epoch 4/10\n",
            "235/235 [==============================] - 4s 17ms/step - loss: 0.1982 - accuracy: 0.9664 - val_loss: 0.3296 - val_accuracy: 0.9555\n",
            "Epoch 5/10\n",
            "235/235 [==============================] - 4s 16ms/step - loss: 0.1695 - accuracy: 0.9716 - val_loss: 0.4526 - val_accuracy: 0.9363\n",
            "Epoch 6/10\n",
            "235/235 [==============================] - 4s 16ms/step - loss: 0.1651 - accuracy: 0.9746 - val_loss: 0.4472 - val_accuracy: 0.9511\n",
            "Epoch 7/10\n",
            "235/235 [==============================] - 4s 17ms/step - loss: 0.1406 - accuracy: 0.9786 - val_loss: 0.2907 - val_accuracy: 0.9684\n",
            "Epoch 8/10\n",
            "235/235 [==============================] - 4s 16ms/step - loss: 0.1358 - accuracy: 0.9815 - val_loss: 0.3513 - val_accuracy: 0.9695\n",
            "Epoch 9/10\n",
            "235/235 [==============================] - 4s 16ms/step - loss: 0.1281 - accuracy: 0.9834 - val_loss: 0.3801 - val_accuracy: 0.9673\n",
            "Epoch 10/10\n",
            "235/235 [==============================] - 4s 17ms/step - loss: 0.1313 - accuracy: 0.9830 - val_loss: 0.3822 - val_accuracy: 0.9708\n",
            "313/313 [==============================] - 1s 2ms/step - loss: 0.3822 - accuracy: 0.9708\n",
            "Evaluation result on Test Data without scaling: Loss = 0.38223424553871155, accuracy = 0.97079998254776\n"
          ]
        }
      ]
    },
    {
      "cell_type": "code",
      "source": [
        "print(\"Evaluation result on Test Data with 2 hidden layers: Loss = {}, accuracy = {}\".format(test_loss, test_acc))\n",
        "print(\"Evaluation result on Test Data with 4 hidden layers: Loss = {}, accuracy = {}\".format(test_loss1, test_acc1))\n",
        "print(\"Evaluation result on Test Data with increase in dense in hidden layers: Loss = {}, accuracy = {}\".format(test_loss2, test_acc2))\n",
        "print(\"Evaluation result on Test Data with tanh activation: Loss = {}, accuracy = {}\".format(test_loss3, test_acc3))\n",
        "print(\"Evaluation result on Test Data with sigmoid activation: Loss = {}, accuracy = {}\".format(test_loss4, test_acc4))\n",
        "print(\"Evaluation result on Test Data without scaling: Loss = {}, accuracy = {}\".format(test_loss5, test_acc5))\n",
        ""
      ],
      "metadata": {
        "colab": {
          "base_uri": "https://localhost:8080/"
        },
        "id": "X5d8SoOs6lSe",
        "outputId": "cc76c8ec-333c-4bd0-f7e3-fb5b5bd560a5"
      },
      "execution_count": 22,
      "outputs": [
        {
          "output_type": "stream",
          "name": "stdout",
          "text": [
            "Evaluation result on Test Data with 2 hidden layers: Loss = 0.07773816585540771, accuracy = 0.9815000295639038\n",
            "Evaluation result on Test Data with 4 hidden layers: Loss = 0.09952478855848312, accuracy = 0.9772999882698059\n",
            "Evaluation result on Test Data with increase in dense in hidden layers: Loss = 0.08534839749336243, accuracy = 0.982200026512146\n",
            "Evaluation result on Test Data with tanh activation: Loss = 0.10085403174161911, accuracy = 0.9740999937057495\n",
            "Evaluation result on Test Data with sigmoid activation: Loss = 0.13928496837615967, accuracy = 0.9585999846458435\n",
            "Evaluation result on Test Data without scaling: Loss = 0.38223424553871155, accuracy = 0.97079998254776\n"
          ]
        }
      ]
    },
    {
      "cell_type": "code",
      "source": [],
      "metadata": {
        "id": "aeR__gFc6nJd"
      },
      "execution_count": null,
      "outputs": []
    }
  ]
}