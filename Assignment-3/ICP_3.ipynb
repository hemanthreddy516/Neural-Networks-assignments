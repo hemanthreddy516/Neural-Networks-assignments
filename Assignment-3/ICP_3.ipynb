{
 "cells": [
  {
   "cell_type": "markdown",
   "id": "d1a48b23",
   "metadata": {},
   "source": [
    "#### 1. Create a class Employee and then do the following\n",
    "* Create a data member to count the number of Employees\n",
    "* Create a constructor to initialize name, family, salary, department\n",
    "* Create a function to average salary\n",
    "* Create a Fulltime Employee class and it should inherit the properties of Employee class\n",
    "* Create the instances of Fulltime Employee class and Employee class and call their member functions."
   ]
  },
  {
   "cell_type": "code",
   "execution_count": 20,
   "id": "bd19fbcd",
   "metadata": {},
   "outputs": [],
   "source": [
    "class Employee:\n",
    "#     class valriable to count total number of employees\n",
    "    employee_count = 0\n",
    "    \n",
    "    def __init__(self,name, family, salary, department):\n",
    "        self.name = name\n",
    "        self.family = family\n",
    "        self.salary = salary\n",
    "        self.department = department\n",
    "        \n",
    "#         increment count by 1 on each object creation\n",
    "        Employee.employee_count += 1\n",
    "    @staticmethod\n",
    "    def average_salary(employee_list):\n",
    "        if len(employee_list): \n",
    "            return \n",
    "        total_salary = sum(emp.salary for emp in employee_list)\n",
    "        return total_salary / len(employee_list)"
   ]
  },
  {
   "cell_type": "code",
   "execution_count": 21,
   "id": "ba0b897d",
   "metadata": {},
   "outputs": [],
   "source": [
    "class FullTimeEmployee(Employee):\n",
    "    def __init__(self,name,family,salary,department,bonus):\n",
    "        super().__init__(name,family,salary,department)\n",
    "        self.bonus = bonus\n",
    "    \n",
    "    def total_compensation(self):\n",
    "        return self.salary + self.bonus"
   ]
  },
  {
   "cell_type": "code",
   "execution_count": 22,
   "id": "564dfb48",
   "metadata": {},
   "outputs": [],
   "source": [
    "emp1 = Employee(\"Admin \",\"Admin \",100000,\"admin\")\n",
    "f_emp1 = FullTimeEmployee(\"hemanth kumar\",\"Chereddy\",60000,\"Developer\",20000)\n",
    "f_emp2 = FullTimeEmployee(\"Naveen\",\"Indluru\",63232,\"Developer\",10000)\n",
    "f_emp3 = FullTimeEmployee(\"yamini\",\"Eddala\",24278,\"Developer\",40000)"
   ]
  },
  {
   "cell_type": "code",
   "execution_count": 23,
   "id": "abc8c1f2",
   "metadata": {},
   "outputs": [
    {
     "data": {
      "text/plain": [
       "4"
      ]
     },
     "execution_count": 23,
     "metadata": {},
     "output_type": "execute_result"
    }
   ],
   "source": [
    "emp1.employee_count"
   ]
  },
  {
   "cell_type": "code",
   "execution_count": 24,
   "id": "3cc28cb8",
   "metadata": {},
   "outputs": [
    {
     "name": "stdout",
     "output_type": "stream",
     "text": [
      "Total compensation for hemanth kumar : 80000\n",
      "Total compensation for Naveen : 73232 \n",
      "Total compensation for yamini : 64278 \n",
      "Avenrage salary of full time employees : None\n"
     ]
    }
   ],
   "source": [
    "print(f\"Total compensation for {f_emp1.name} : {f_emp1.total_compensation()}\")\n",
    "print(f\"Total compensation for {f_emp2.name} : {f_emp2.total_compensation()} \") \n",
    "print(f\"Total compensation for {f_emp3.name} : {f_emp3.total_compensation()} \")\n",
    "f_emp_list = [f_emp1,f_emp2,f_emp3]\n",
    "print(\"Avenrage salary of full time employees :\",emp1.average_salary(f_emp_list)) "
   ]
  },
  {
   "cell_type": "markdown",
   "id": "732a8a07",
   "metadata": {},
   "source": [
    "#### 2. Using NumPy create random vector of size 20 having only float in the range 1-20.\n",
    "* Then reshape the array to 4 by 5\n",
    "* Then replace the max in each row by 0 (axis=1)\n"
   ]
  },
  {
   "cell_type": "code",
   "execution_count": 28,
   "id": "666f9ef6",
   "metadata": {},
   "outputs": [
    {
     "name": "stdout",
     "output_type": "stream",
     "text": [
      "random vector of size 20 : [12.69246648 14.99459646  4.31960152  3.24090276 19.69133932  3.5909625\n",
      "  8.53813263  7.56508498  6.77552274  5.94335297 19.50138112 15.73489875\n",
      " 14.54062952 11.55042215  4.51106502 11.74482551  7.70360414 17.64421877\n",
      " 19.02047871  3.48828432]\n",
      "Reshaped array(5,4) : [[12.69246648 14.99459646  4.31960152  3.24090276]\n",
      " [19.69133932  3.5909625   8.53813263  7.56508498]\n",
      " [ 6.77552274  5.94335297 19.50138112 15.73489875]\n",
      " [14.54062952 11.55042215  4.51106502 11.74482551]\n",
      " [ 7.70360414 17.64421877 19.02047871  3.48828432]]\n",
      "Reshaped array after replacing max with 0 : [[12.69246648  0.          4.31960152  3.24090276]\n",
      " [ 0.          3.5909625   8.53813263  7.56508498]\n",
      " [ 6.77552274  5.94335297  0.         15.73489875]\n",
      " [ 0.         11.55042215  4.51106502 11.74482551]\n",
      " [ 7.70360414 17.64421877  0.          3.48828432]]\n"
     ]
    }
   ],
   "source": [
    "# import numpy library\n",
    "import numpy as np\n",
    "\n",
    "# crate random vector of size 20\n",
    "random_vector = np.random.uniform(1, 20, size=20)\n",
    "print(f\"random vector of size 20 : {random_vector}\")\n",
    "\n",
    "# Reshape the array (can we any shape : it should match the total size of vector)\n",
    "reshaped_array = random_vector.reshape(5,4)\n",
    "print(f\"Reshaped array(5,4) : {reshaped_array}\")\n",
    "\n",
    "# Replace the max in each row by 0\n",
    "reshaped_array[np.arange(5), np.argmax(reshaped_array, axis=1)] = 0\n",
    "print(f\"Reshaped array after replacing max with 0 : {reshaped_array}\")\n"
   ]
  },
  {
   "cell_type": "raw",
   "id": "61c2312e",
   "metadata": {},
   "source": []
  }
 ],
 "metadata": {
  "kernelspec": {
   "display_name": "Python 3 (ipykernel)",
   "language": "python",
   "name": "python3"
  },
  "language_info": {
   "codemirror_mode": {
    "name": "ipython",
    "version": 3
   },
   "file_extension": ".py",
   "mimetype": "text/x-python",
   "name": "python",
   "nbconvert_exporter": "python",
   "pygments_lexer": "ipython3",
   "version": "3.11.5"
  }
 },
 "nbformat": 4,
 "nbformat_minor": 5
}
